{
  "nbformat": 4,
  "nbformat_minor": 0,
  "metadata": {
    "colab": {
      "provenance": []
    },
    "kernelspec": {
      "name": "python3",
      "display_name": "Python 3"
    },
    "language_info": {
      "name": "python"
    }
  },
  "cells": [
    {
      "cell_type": "code",
      "execution_count": 6,
      "metadata": {
        "id": "G9ngi-46fOts"
      },
      "outputs": [],
      "source": [
        "import pandas as pd\n",
        "from sklearn.model_selection import train_test_split\n",
        "from sklearn.preprocessing import OneHotEncoder\n",
        "from sklearn.ensemble import RandomForestClassifier\n",
        "from sklearn.metrics import accuracy_score, precision_score, recall_score, f1_score\n",
        "\n",
        "# Loading the dataset\n",
        "df = pd.read_excel('dump.xlsx')"
      ]
    },
    {
      "cell_type": "code",
      "source": [
        "# Removing leads with STATUS other than WON or LOST\n",
        "df = df[(df['status'] == 'WON') | (df['status'] == 'LOST')]\n",
        "\n",
        "# Removing the 'lead_id' and 'Agent_id' columns\n",
        "df = df.drop(['lead_id', 'Agent_id'], axis=1)\n",
        "\n",
        "# Converting all columns to categorical columns\n",
        "df = df.astype('category')"
      ],
      "metadata": {
        "id": "XUxDTwY7fltl"
      },
      "execution_count": 7,
      "outputs": []
    },
    {
      "cell_type": "code",
      "source": [
        "# Replacing all occurrences of '9b2d5b4678781e53038e91ea5324530a03f27dc1d0e5f6c9bc9d493a23be9de0' with NaN\n",
        "df = df.replace('9b2d5b4678781e53038e91ea5324530a03f27dc1d0e5f6c9bc9d493a23be9de0', pd.NaT)\n"
      ],
      "metadata": {
        "id": "oHVUwMvDgN-r"
      },
      "execution_count": 8,
      "outputs": []
    },
    {
      "cell_type": "code",
      "source": [
        "# Extracting numerical values from 'budget' and 'lease' columns\n",
        "df['budget'] = df['budget'].str.extract('(\\d+)', expand=False)\n",
        "df['lease'] = df['lease'].str.extract('(\\d+)', expand=False)\n",
        "\n",
        "df.head()"
      ],
      "metadata": {
        "colab": {
          "base_uri": "https://localhost:8080/",
          "height": 322
        },
        "id": "ICzBYqshgQog",
        "outputId": "0a401126-fc78-4293-e330-24f70cf78220"
      },
      "execution_count": 16,
      "outputs": [
        {
          "output_type": "execute_result",
          "data": {
            "text/plain": [
              "  Unnamed: 0 status     lost_reason budget lease     movein  \\\n",
              "0        0.0   LOST  Not responding    NaN   NaN        NaT   \n",
              "1        1.0   LOST      Low budget    NaN   NaN        NaT   \n",
              "2        2.0   LOST  Not responding    121    40 2022-08-31   \n",
              "3        3.0   LOST      Low budget      0   NaN        NaT   \n",
              "4        4.0   LOST       Junk lead    NaN   NaN        NaT   \n",
              "\n",
              "                                              source  \\\n",
              "0                                                NaN   \n",
              "1                                                NaN   \n",
              "2  7aae3e886e89fc1187a5c47d6cea1c22998ee610ade1f2...   \n",
              "3  ba2d0a29556ac20f86f45e4543c0825428cba33fd7a9ea...   \n",
              "4                                                NaN   \n",
              "\n",
              "                                         source_city  \\\n",
              "0                                                NaN   \n",
              "1                                                NaN   \n",
              "2  9b8cc3c63cdf447e463c11544924bf027945cbd29675f7...   \n",
              "3  a5f0d2d08eb0592087e3a3a2f9c1ba2c67cc30f2efd2bd...   \n",
              "4                                                NaN   \n",
              "\n",
              "                                      source_country  \\\n",
              "0                                                NaN   \n",
              "1                                                NaN   \n",
              "2  e09e10e67812e9d236ad900e5d46b4308fc62f5d69446a...   \n",
              "3  e09e10e67812e9d236ad900e5d46b4308fc62f5d69446a...   \n",
              "4                                                NaN   \n",
              "\n",
              "                                          utm_source  \\\n",
              "0  3d59f7548e1af2151b64135003ce63c0a484c26b9b8b16...   \n",
              "1  3d59f7548e1af2151b64135003ce63c0a484c26b9b8b16...   \n",
              "2  bbdefa2950f49882f295b1285d4fa9dec45fc4144bfb07...   \n",
              "3  bbdefa2950f49882f295b1285d4fa9dec45fc4144bfb07...   \n",
              "4  3d59f7548e1af2151b64135003ce63c0a484c26b9b8b16...   \n",
              "\n",
              "                                          utm_medium  \\\n",
              "0  268ad70eb5bc4737a2ae28162cbca30118cc94520e49ef...   \n",
              "1  268ad70eb5bc4737a2ae28162cbca30118cc94520e49ef...   \n",
              "2  09076eb7665d1fb9389c7c4517fee0b00e43092eb34821...   \n",
              "3  09076eb7665d1fb9389c7c4517fee0b00e43092eb34821...   \n",
              "4  268ad70eb5bc4737a2ae28162cbca30118cc94520e49ef...   \n",
              "\n",
              "                                            des_city  \\\n",
              "0  ecc0e7dc084f141b29479058967d0bc07dee25d9690a98...   \n",
              "1  5372372f3bf5896820cb2819300c3e681820d82c6efc54...   \n",
              "2  11ab03a1a8c367191355c152f39fe28cae5e426fce49ef...   \n",
              "3  19372fa44c57a01c37a5a8418779ca3d99b0b59731fb35...   \n",
              "4                                                NaN   \n",
              "\n",
              "                                         des_country room_type  \n",
              "0  8d23a6e37e0a6431a8f1b43a91026dcff51170a89a6512...       NaN  \n",
              "1  8d23a6e37e0a6431a8f1b43a91026dcff51170a89a6512...       NaN  \n",
              "2  8d23a6e37e0a6431a8f1b43a91026dcff51170a89a6512...   Ensuite  \n",
              "3  8d23a6e37e0a6431a8f1b43a91026dcff51170a89a6512...       NaN  \n",
              "4                                                NaN       NaN  "
            ],
            "text/html": [
              "\n",
              "  <div id=\"df-8831bd60-7948-4ef1-b7e8-9e4cf84043fe\">\n",
              "    <div class=\"colab-df-container\">\n",
              "      <div>\n",
              "<style scoped>\n",
              "    .dataframe tbody tr th:only-of-type {\n",
              "        vertical-align: middle;\n",
              "    }\n",
              "\n",
              "    .dataframe tbody tr th {\n",
              "        vertical-align: top;\n",
              "    }\n",
              "\n",
              "    .dataframe thead th {\n",
              "        text-align: right;\n",
              "    }\n",
              "</style>\n",
              "<table border=\"1\" class=\"dataframe\">\n",
              "  <thead>\n",
              "    <tr style=\"text-align: right;\">\n",
              "      <th></th>\n",
              "      <th>Unnamed: 0</th>\n",
              "      <th>status</th>\n",
              "      <th>lost_reason</th>\n",
              "      <th>budget</th>\n",
              "      <th>lease</th>\n",
              "      <th>movein</th>\n",
              "      <th>source</th>\n",
              "      <th>source_city</th>\n",
              "      <th>source_country</th>\n",
              "      <th>utm_source</th>\n",
              "      <th>utm_medium</th>\n",
              "      <th>des_city</th>\n",
              "      <th>des_country</th>\n",
              "      <th>room_type</th>\n",
              "    </tr>\n",
              "  </thead>\n",
              "  <tbody>\n",
              "    <tr>\n",
              "      <th>0</th>\n",
              "      <td>0.0</td>\n",
              "      <td>LOST</td>\n",
              "      <td>Not responding</td>\n",
              "      <td>NaN</td>\n",
              "      <td>NaN</td>\n",
              "      <td>NaT</td>\n",
              "      <td>NaN</td>\n",
              "      <td>NaN</td>\n",
              "      <td>NaN</td>\n",
              "      <td>3d59f7548e1af2151b64135003ce63c0a484c26b9b8b16...</td>\n",
              "      <td>268ad70eb5bc4737a2ae28162cbca30118cc94520e49ef...</td>\n",
              "      <td>ecc0e7dc084f141b29479058967d0bc07dee25d9690a98...</td>\n",
              "      <td>8d23a6e37e0a6431a8f1b43a91026dcff51170a89a6512...</td>\n",
              "      <td>NaN</td>\n",
              "    </tr>\n",
              "    <tr>\n",
              "      <th>1</th>\n",
              "      <td>1.0</td>\n",
              "      <td>LOST</td>\n",
              "      <td>Low budget</td>\n",
              "      <td>NaN</td>\n",
              "      <td>NaN</td>\n",
              "      <td>NaT</td>\n",
              "      <td>NaN</td>\n",
              "      <td>NaN</td>\n",
              "      <td>NaN</td>\n",
              "      <td>3d59f7548e1af2151b64135003ce63c0a484c26b9b8b16...</td>\n",
              "      <td>268ad70eb5bc4737a2ae28162cbca30118cc94520e49ef...</td>\n",
              "      <td>5372372f3bf5896820cb2819300c3e681820d82c6efc54...</td>\n",
              "      <td>8d23a6e37e0a6431a8f1b43a91026dcff51170a89a6512...</td>\n",
              "      <td>NaN</td>\n",
              "    </tr>\n",
              "    <tr>\n",
              "      <th>2</th>\n",
              "      <td>2.0</td>\n",
              "      <td>LOST</td>\n",
              "      <td>Not responding</td>\n",
              "      <td>121</td>\n",
              "      <td>40</td>\n",
              "      <td>2022-08-31</td>\n",
              "      <td>7aae3e886e89fc1187a5c47d6cea1c22998ee610ade1f2...</td>\n",
              "      <td>9b8cc3c63cdf447e463c11544924bf027945cbd29675f7...</td>\n",
              "      <td>e09e10e67812e9d236ad900e5d46b4308fc62f5d69446a...</td>\n",
              "      <td>bbdefa2950f49882f295b1285d4fa9dec45fc4144bfb07...</td>\n",
              "      <td>09076eb7665d1fb9389c7c4517fee0b00e43092eb34821...</td>\n",
              "      <td>11ab03a1a8c367191355c152f39fe28cae5e426fce49ef...</td>\n",
              "      <td>8d23a6e37e0a6431a8f1b43a91026dcff51170a89a6512...</td>\n",
              "      <td>Ensuite</td>\n",
              "    </tr>\n",
              "    <tr>\n",
              "      <th>3</th>\n",
              "      <td>3.0</td>\n",
              "      <td>LOST</td>\n",
              "      <td>Low budget</td>\n",
              "      <td>0</td>\n",
              "      <td>NaN</td>\n",
              "      <td>NaT</td>\n",
              "      <td>ba2d0a29556ac20f86f45e4543c0825428cba33fd7a9ea...</td>\n",
              "      <td>a5f0d2d08eb0592087e3a3a2f9c1ba2c67cc30f2efd2bd...</td>\n",
              "      <td>e09e10e67812e9d236ad900e5d46b4308fc62f5d69446a...</td>\n",
              "      <td>bbdefa2950f49882f295b1285d4fa9dec45fc4144bfb07...</td>\n",
              "      <td>09076eb7665d1fb9389c7c4517fee0b00e43092eb34821...</td>\n",
              "      <td>19372fa44c57a01c37a5a8418779ca3d99b0b59731fb35...</td>\n",
              "      <td>8d23a6e37e0a6431a8f1b43a91026dcff51170a89a6512...</td>\n",
              "      <td>NaN</td>\n",
              "    </tr>\n",
              "    <tr>\n",
              "      <th>4</th>\n",
              "      <td>4.0</td>\n",
              "      <td>LOST</td>\n",
              "      <td>Junk lead</td>\n",
              "      <td>NaN</td>\n",
              "      <td>NaN</td>\n",
              "      <td>NaT</td>\n",
              "      <td>NaN</td>\n",
              "      <td>NaN</td>\n",
              "      <td>NaN</td>\n",
              "      <td>3d59f7548e1af2151b64135003ce63c0a484c26b9b8b16...</td>\n",
              "      <td>268ad70eb5bc4737a2ae28162cbca30118cc94520e49ef...</td>\n",
              "      <td>NaN</td>\n",
              "      <td>NaN</td>\n",
              "      <td>NaN</td>\n",
              "    </tr>\n",
              "  </tbody>\n",
              "</table>\n",
              "</div>\n",
              "      <button class=\"colab-df-convert\" onclick=\"convertToInteractive('df-8831bd60-7948-4ef1-b7e8-9e4cf84043fe')\"\n",
              "              title=\"Convert this dataframe to an interactive table.\"\n",
              "              style=\"display:none;\">\n",
              "        \n",
              "  <svg xmlns=\"http://www.w3.org/2000/svg\" height=\"24px\"viewBox=\"0 0 24 24\"\n",
              "       width=\"24px\">\n",
              "    <path d=\"M0 0h24v24H0V0z\" fill=\"none\"/>\n",
              "    <path d=\"M18.56 5.44l.94 2.06.94-2.06 2.06-.94-2.06-.94-.94-2.06-.94 2.06-2.06.94zm-11 1L8.5 8.5l.94-2.06 2.06-.94-2.06-.94L8.5 2.5l-.94 2.06-2.06.94zm10 10l.94 2.06.94-2.06 2.06-.94-2.06-.94-.94-2.06-.94 2.06-2.06.94z\"/><path d=\"M17.41 7.96l-1.37-1.37c-.4-.4-.92-.59-1.43-.59-.52 0-1.04.2-1.43.59L10.3 9.45l-7.72 7.72c-.78.78-.78 2.05 0 2.83L4 21.41c.39.39.9.59 1.41.59.51 0 1.02-.2 1.41-.59l7.78-7.78 2.81-2.81c.8-.78.8-2.07 0-2.86zM5.41 20L4 18.59l7.72-7.72 1.47 1.35L5.41 20z\"/>\n",
              "  </svg>\n",
              "      </button>\n",
              "      \n",
              "  <style>\n",
              "    .colab-df-container {\n",
              "      display:flex;\n",
              "      flex-wrap:wrap;\n",
              "      gap: 12px;\n",
              "    }\n",
              "\n",
              "    .colab-df-convert {\n",
              "      background-color: #E8F0FE;\n",
              "      border: none;\n",
              "      border-radius: 50%;\n",
              "      cursor: pointer;\n",
              "      display: none;\n",
              "      fill: #1967D2;\n",
              "      height: 32px;\n",
              "      padding: 0 0 0 0;\n",
              "      width: 32px;\n",
              "    }\n",
              "\n",
              "    .colab-df-convert:hover {\n",
              "      background-color: #E2EBFA;\n",
              "      box-shadow: 0px 1px 2px rgba(60, 64, 67, 0.3), 0px 1px 3px 1px rgba(60, 64, 67, 0.15);\n",
              "      fill: #174EA6;\n",
              "    }\n",
              "\n",
              "    [theme=dark] .colab-df-convert {\n",
              "      background-color: #3B4455;\n",
              "      fill: #D2E3FC;\n",
              "    }\n",
              "\n",
              "    [theme=dark] .colab-df-convert:hover {\n",
              "      background-color: #434B5C;\n",
              "      box-shadow: 0px 1px 3px 1px rgba(0, 0, 0, 0.15);\n",
              "      filter: drop-shadow(0px 1px 2px rgba(0, 0, 0, 0.3));\n",
              "      fill: #FFFFFF;\n",
              "    }\n",
              "  </style>\n",
              "\n",
              "      <script>\n",
              "        const buttonEl =\n",
              "          document.querySelector('#df-8831bd60-7948-4ef1-b7e8-9e4cf84043fe button.colab-df-convert');\n",
              "        buttonEl.style.display =\n",
              "          google.colab.kernel.accessAllowed ? 'block' : 'none';\n",
              "\n",
              "        async function convertToInteractive(key) {\n",
              "          const element = document.querySelector('#df-8831bd60-7948-4ef1-b7e8-9e4cf84043fe');\n",
              "          const dataTable =\n",
              "            await google.colab.kernel.invokeFunction('convertToInteractive',\n",
              "                                                     [key], {});\n",
              "          if (!dataTable) return;\n",
              "\n",
              "          const docLinkHtml = 'Like what you see? Visit the ' +\n",
              "            '<a target=\"_blank\" href=https://colab.research.google.com/notebooks/data_table.ipynb>data table notebook</a>'\n",
              "            + ' to learn more about interactive tables.';\n",
              "          element.innerHTML = '';\n",
              "          dataTable['output_type'] = 'display_data';\n",
              "          await google.colab.output.renderOutput(dataTable, element);\n",
              "          const docLink = document.createElement('div');\n",
              "          docLink.innerHTML = docLinkHtml;\n",
              "          element.appendChild(docLink);\n",
              "        }\n",
              "      </script>\n",
              "    </div>\n",
              "  </div>\n",
              "  "
            ]
          },
          "metadata": {},
          "execution_count": 16
        }
      ]
    },
    {
      "cell_type": "code",
      "source": [
        "from sklearn.preprocessing import LabelEncoder\n",
        "# Treat all columns as categorical\n",
        "df = df.astype(str)\n",
        "\n",
        "# Encode the categorical features\n",
        "encoder = LabelEncoder()\n",
        "for col in df.columns:\n",
        "    df[col] = encoder.fit_transform(df[col])\n"
      ],
      "metadata": {
        "id": "sgg4dsvmo5sQ"
      },
      "execution_count": 25,
      "outputs": []
    },
    {
      "cell_type": "code",
      "source": [
        "# Split the dataset into training and testing sets\n",
        "X = df.drop(['status'], axis=1)\n",
        "y = df['status']\n",
        "X_train, X_test, y_train, y_test = train_test_split(X, y, test_size=0.2, random_state=42)"
      ],
      "metadata": {
        "id": "d0kTrGsNgWze"
      },
      "execution_count": 26,
      "outputs": []
    },
    {
      "cell_type": "code",
      "source": [
        "# Training the machine learning model\n",
        "model = RandomForestClassifier()\n",
        "model.fit(X_train, y_train)"
      ],
      "metadata": {
        "colab": {
          "base_uri": "https://localhost:8080/",
          "height": 74
        },
        "id": "tblXM5lIoQKr",
        "outputId": "01d6fe95-8fe7-48bf-dae1-164eeec91f04"
      },
      "execution_count": 31,
      "outputs": [
        {
          "output_type": "execute_result",
          "data": {
            "text/plain": [
              "RandomForestClassifier()"
            ],
            "text/html": [
              "<style>#sk-container-id-2 {color: black;background-color: white;}#sk-container-id-2 pre{padding: 0;}#sk-container-id-2 div.sk-toggleable {background-color: white;}#sk-container-id-2 label.sk-toggleable__label {cursor: pointer;display: block;width: 100%;margin-bottom: 0;padding: 0.3em;box-sizing: border-box;text-align: center;}#sk-container-id-2 label.sk-toggleable__label-arrow:before {content: \"▸\";float: left;margin-right: 0.25em;color: #696969;}#sk-container-id-2 label.sk-toggleable__label-arrow:hover:before {color: black;}#sk-container-id-2 div.sk-estimator:hover label.sk-toggleable__label-arrow:before {color: black;}#sk-container-id-2 div.sk-toggleable__content {max-height: 0;max-width: 0;overflow: hidden;text-align: left;background-color: #f0f8ff;}#sk-container-id-2 div.sk-toggleable__content pre {margin: 0.2em;color: black;border-radius: 0.25em;background-color: #f0f8ff;}#sk-container-id-2 input.sk-toggleable__control:checked~div.sk-toggleable__content {max-height: 200px;max-width: 100%;overflow: auto;}#sk-container-id-2 input.sk-toggleable__control:checked~label.sk-toggleable__label-arrow:before {content: \"▾\";}#sk-container-id-2 div.sk-estimator input.sk-toggleable__control:checked~label.sk-toggleable__label {background-color: #d4ebff;}#sk-container-id-2 div.sk-label input.sk-toggleable__control:checked~label.sk-toggleable__label {background-color: #d4ebff;}#sk-container-id-2 input.sk-hidden--visually {border: 0;clip: rect(1px 1px 1px 1px);clip: rect(1px, 1px, 1px, 1px);height: 1px;margin: -1px;overflow: hidden;padding: 0;position: absolute;width: 1px;}#sk-container-id-2 div.sk-estimator {font-family: monospace;background-color: #f0f8ff;border: 1px dotted black;border-radius: 0.25em;box-sizing: border-box;margin-bottom: 0.5em;}#sk-container-id-2 div.sk-estimator:hover {background-color: #d4ebff;}#sk-container-id-2 div.sk-parallel-item::after {content: \"\";width: 100%;border-bottom: 1px solid gray;flex-grow: 1;}#sk-container-id-2 div.sk-label:hover label.sk-toggleable__label {background-color: #d4ebff;}#sk-container-id-2 div.sk-serial::before {content: \"\";position: absolute;border-left: 1px solid gray;box-sizing: border-box;top: 0;bottom: 0;left: 50%;z-index: 0;}#sk-container-id-2 div.sk-serial {display: flex;flex-direction: column;align-items: center;background-color: white;padding-right: 0.2em;padding-left: 0.2em;position: relative;}#sk-container-id-2 div.sk-item {position: relative;z-index: 1;}#sk-container-id-2 div.sk-parallel {display: flex;align-items: stretch;justify-content: center;background-color: white;position: relative;}#sk-container-id-2 div.sk-item::before, #sk-container-id-2 div.sk-parallel-item::before {content: \"\";position: absolute;border-left: 1px solid gray;box-sizing: border-box;top: 0;bottom: 0;left: 50%;z-index: -1;}#sk-container-id-2 div.sk-parallel-item {display: flex;flex-direction: column;z-index: 1;position: relative;background-color: white;}#sk-container-id-2 div.sk-parallel-item:first-child::after {align-self: flex-end;width: 50%;}#sk-container-id-2 div.sk-parallel-item:last-child::after {align-self: flex-start;width: 50%;}#sk-container-id-2 div.sk-parallel-item:only-child::after {width: 0;}#sk-container-id-2 div.sk-dashed-wrapped {border: 1px dashed gray;margin: 0 0.4em 0.5em 0.4em;box-sizing: border-box;padding-bottom: 0.4em;background-color: white;}#sk-container-id-2 div.sk-label label {font-family: monospace;font-weight: bold;display: inline-block;line-height: 1.2em;}#sk-container-id-2 div.sk-label-container {text-align: center;}#sk-container-id-2 div.sk-container {/* jupyter's `normalize.less` sets `[hidden] { display: none; }` but bootstrap.min.css set `[hidden] { display: none !important; }` so we also need the `!important` here to be able to override the default hidden behavior on the sphinx rendered scikit-learn.org. See: https://github.com/scikit-learn/scikit-learn/issues/21755 */display: inline-block !important;position: relative;}#sk-container-id-2 div.sk-text-repr-fallback {display: none;}</style><div id=\"sk-container-id-2\" class=\"sk-top-container\"><div class=\"sk-text-repr-fallback\"><pre>RandomForestClassifier()</pre><b>In a Jupyter environment, please rerun this cell to show the HTML representation or trust the notebook. <br />On GitHub, the HTML representation is unable to render, please try loading this page with nbviewer.org.</b></div><div class=\"sk-container\" hidden><div class=\"sk-item\"><div class=\"sk-estimator sk-toggleable\"><input class=\"sk-toggleable__control sk-hidden--visually\" id=\"sk-estimator-id-2\" type=\"checkbox\" checked><label for=\"sk-estimator-id-2\" class=\"sk-toggleable__label sk-toggleable__label-arrow\">RandomForestClassifier</label><div class=\"sk-toggleable__content\"><pre>RandomForestClassifier()</pre></div></div></div></div></div>"
            ]
          },
          "metadata": {},
          "execution_count": 31
        }
      ]
    },
    {
      "cell_type": "code",
      "source": [
        "y_pred = model.predict(X_test)\n",
        "acc = accuracy_score(y_test, y_pred)\n",
        "prec = precision_score(y_test, y_pred, average='macro')\n",
        "rec = recall_score(y_test, y_pred, average='macro')\n",
        "f1 = f1_score(y_test, y_pred, average='macro')\n",
        "\n",
        "print('Accuracy:', acc)\n",
        "print('Precision:', prec)\n",
        "print('Recall:', rec)\n",
        "print('F1-score:', f1)"
      ],
      "metadata": {
        "colab": {
          "base_uri": "https://localhost:8080/"
        },
        "id": "BZ7UUH14ij8N",
        "outputId": "989dac36-9a4f-4ca9-c604-4ab8292dad3c"
      },
      "execution_count": 32,
      "outputs": [
        {
          "output_type": "stream",
          "name": "stdout",
          "text": [
            "Accuracy: 1.0\n",
            "Precision: 1.0\n",
            "Recall: 1.0\n",
            "F1-score: 1.0\n"
          ]
        }
      ]
    },
    {
      "cell_type": "code",
      "source": [],
      "metadata": {
        "id": "4kXX6eiIpTb8"
      },
      "execution_count": null,
      "outputs": []
    }
  ]
}